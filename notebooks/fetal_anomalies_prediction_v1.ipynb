{
  "cells": [
    {
      "cell_type": "markdown",
      "metadata": {
        "id": "_bWJcskS68Cv"
      },
      "source": [
        "# Fetal Anomalies Detection\n",
        "\n"
      ]
    },
    {
      "cell_type": "markdown",
      "metadata": {
        "id": "Uvr34WtO7W8m"
      },
      "source": [
        "Installs and imports:"
      ]
    },
    {
      "cell_type": "code",
      "execution_count": 1,
      "metadata": {
        "colab": {
          "base_uri": "https://localhost:8080/"
        },
        "id": "zSDUHbDd7Zuy",
        "outputId": "ea525c05-afed-4502-cbfd-7b7063b91bba"
      },
      "outputs": [
        {
          "name": "stdout",
          "output_type": "stream",
          "text": [
            "Requirement already satisfied: xgboost in /usr/local/lib/python3.10/dist-packages (2.1.1)\n",
            "Requirement already satisfied: numpy in /usr/local/lib/python3.10/dist-packages (from xgboost) (1.26.4)\n",
            "Requirement already satisfied: nvidia-nccl-cu12 in /usr/local/lib/python3.10/dist-packages (from xgboost) (2.22.3)\n",
            "Requirement already satisfied: scipy in /usr/local/lib/python3.10/dist-packages (from xgboost) (1.13.1)\n",
            "Collecting ucimlrepo\n",
            "  Downloading ucimlrepo-0.0.7-py3-none-any.whl.metadata (5.5 kB)\n",
            "Requirement already satisfied: pandas>=1.0.0 in /usr/local/lib/python3.10/dist-packages (from ucimlrepo) (2.1.4)\n",
            "Requirement already satisfied: certifi>=2020.12.5 in /usr/local/lib/python3.10/dist-packages (from ucimlrepo) (2024.8.30)\n",
            "Requirement already satisfied: numpy<2,>=1.22.4 in /usr/local/lib/python3.10/dist-packages (from pandas>=1.0.0->ucimlrepo) (1.26.4)\n",
            "Requirement already satisfied: python-dateutil>=2.8.2 in /usr/local/lib/python3.10/dist-packages (from pandas>=1.0.0->ucimlrepo) (2.8.2)\n",
            "Requirement already satisfied: pytz>=2020.1 in /usr/local/lib/python3.10/dist-packages (from pandas>=1.0.0->ucimlrepo) (2024.1)\n",
            "Requirement already satisfied: tzdata>=2022.1 in /usr/local/lib/python3.10/dist-packages (from pandas>=1.0.0->ucimlrepo) (2024.1)\n",
            "Requirement already satisfied: six>=1.5 in /usr/local/lib/python3.10/dist-packages (from python-dateutil>=2.8.2->pandas>=1.0.0->ucimlrepo) (1.16.0)\n",
            "Downloading ucimlrepo-0.0.7-py3-none-any.whl (8.0 kB)\n",
            "Installing collected packages: ucimlrepo\n",
            "Successfully installed ucimlrepo-0.0.7\n"
          ]
        }
      ],
      "source": [
        "!pip install xgboost\n",
        "!pip install ucimlrepo # retrieve dataset"
      ]
    },
    {
      "cell_type": "code",
      "execution_count": 2,
      "metadata": {
        "id": "NfeLw09x7o0p"
      },
      "outputs": [],
      "source": [
        "import pandas as pd\n",
        "import numpy as np\n",
        "import matplotlib.pyplot as plt\n",
        "import seaborn as sns\n",
        "import requests\n",
        "import xgboost as xgb\n",
        "from ucimlrepo import fetch_ucirepo\n",
        "from sklearn.model_selection import train_test_split\n",
        "from sklearn.preprocessing import StandardScaler\n",
        "from sklearn.ensemble import RandomForestClassifier\n",
        "from sklearn.metrics import classification_report, confusion_matrix\n",
        "from io import StringIO\n",
        "from imblearn.over_sampling import SMOTE\n",
        "from sklearn.utils.class_weight import compute_class_weight"
      ]
    },
    {
      "cell_type": "markdown",
      "metadata": {
        "id": "mDGX3UtT6-Nx"
      },
      "source": [
        "## **Goal**\n",
        "\n",
        "The goal of this project is to develop a predictive model to identify potential fetal anomalies using data from Cardiotocography (CTG). CTG is a widely used, non-invasive method to monitor fetal heart rate and uterine contractions, making it an ideal tool for assessing fetal well-being. This model aims to assist healthcare professionals in early diagnosis and intervention by predicting whether the outcome is normal, suspect, or pathological, based on features extracted from CTG data.\n",
        "\n",
        "\n",
        "### **Steps**:\n",
        "1. **Dataset Exploration**:\n",
        "  - Understand the structure and contents of the dataset, including the features and their distribution.\n",
        "   - Investigate class imbalance in the target variable (normal, suspect, pathological).\n",
        "   - Visualize important features and correlations between them.\n",
        "\n",
        "2. **Data Preprocessing**:\n",
        "   - Clean and prepare the dataset by selecting relevant features and handling missing values.\n",
        "   - Standardize the features to ensure that the model performs well across different scales.\n",
        "  \n",
        "2. **Model Development**:\n",
        "   - Implement a machine learning model (XGBoost) capable of handling imbalanced datasets.\n",
        "   - Optimize hyperparameters to enhance model performance.\n",
        "   \n",
        "3. **Model Evaluation**:\n",
        "   - Evaluate the model based on metrics such as accuracy, precision, recall, and the F1 score to assess its effectiveness.\n",
        "   - Use cross-validation to ensure the model's robustness and generalization.\n",
        "\n",
        "4. **Deployment**:\n",
        "   - Save the trained model in a format (json) that can be easily integrated into a web-based API for inference.\n",
        "   - Provide a skeleton framework for deployment using Flask and Docker to make the model accessible to healthcare providers."
      ]
    },
    {
      "cell_type": "markdown",
      "metadata": {
        "id": "PIfsUFcH7A7b"
      },
      "source": [
        "## Dataset\n",
        "\n",
        "- The dataset used for this project comes from Cardiotocography records and is part of the UC Irvine ML Repository.\n",
        "\n",
        "The dataset contains the following features:\n",
        "- LB - FHR baseline (beats per minute)\n",
        "- AC - # of accelerations per second\n",
        "- FM - # of fetal movements per second\n",
        "- UC - # of uterine contractions per second\n",
        "- DL - # of light decelerations per second\n",
        "- DS - # of severe decelerations per second\n",
        "- DP - # of prolongued decelerations per second\n",
        "- ASTV - percentage of time with abnormal short term variability\n",
        "- MSTV - mean value of short term variability\n",
        "- ALTV - percentage of time with abnormal long term variability\n",
        "- MLTV - mean value of long term variability\n",
        "- Width - width of FHR histogram\n",
        "- Min - minimum of FHR histogram\n",
        "- Max - Maximum of FHR histogram\n",
        "- Nmax - # of histogram peaks\n",
        "- Nzeros - # of histogram zeros\n",
        "- Mode - histogram mode\n",
        "-Mean - histogram mean\n",
        "- Median - histogram median\n",
        "- Variance - histogram variance\n",
        "- Tendency - histogram tendency\n",
        "\n",
        "\n",
        "The dataset contains the following labels:\n",
        "\n",
        "- CLASS - FHR pattern class code (1 to 10)\n",
        "- NSP - fetal state class code (N=normal; S=suspect; P=pathologic)\n",
        "\n",
        "As stated in the official dataset source: \"The CTGs were also classified by three expert obstetricians and a consensus classification label assigned to each of them. Classification was both with respect to a morphologic pattern (A, B, C...) and to a fetal state (N, S, P).\" It is therefore reasonable to have high confidence in the quality and reliability of the dataset, as it reflects expert medical judgment and consensus.\n",
        "\n",
        "In this project, classification will be performed on the NSP labels, which indicate the fetal state as normal, suspect, or pathological. This aligns with the project's goal of predicting potential fetal anomalies, as these labels provide a clear medical assessment of fetal health."
      ]
    },
    {
      "cell_type": "markdown",
      "metadata": {
        "id": "t74dZ3iqAPA1"
      },
      "source": [
        "Dataset retrieval:"
      ]
    },
    {
      "cell_type": "code",
      "execution_count": 3,
      "metadata": {
        "colab": {
          "base_uri": "https://localhost:8080/"
        },
        "id": "vcn7-_0I7z8T",
        "outputId": "3db463e2-a036-4769-beae-68725613110f"
      },
      "outputs": [
        {
          "name": "stdout",
          "output_type": "stream",
          "text": [
            "\n",
            "Dataset Shape:\n",
            "  - Features shape: (2126, 21)\n",
            "  - Target shape: (2126,)\n"
          ]
        }
      ],
      "source": [
        "cardiotocography = fetch_ucirepo(id=193)\n",
        "\n",
        "X = cardiotocography.data.features\n",
        "y = cardiotocography.data.targets['NSP']\n",
        "\n",
        "print(\"\\nDataset Shape:\")\n",
        "print(f\"  - Features shape: {X.shape}\")\n",
        "print(f\"  - Target shape: {y.shape}\")"
      ]
    },
    {
      "cell_type": "markdown",
      "metadata": {
        "id": "Lg6IM6rdAS_x"
      },
      "source": [
        "Assessment of missing variables:"
      ]
    },
    {
      "cell_type": "code",
      "execution_count": 4,
      "metadata": {
        "colab": {
          "base_uri": "https://localhost:8080/"
        },
        "id": "mpj9uNeVAYRV",
        "outputId": "1c4f705d-ead2-4c9a-d155-58f597a7f073"
      },
      "outputs": [
        {
          "name": "stdout",
          "output_type": "stream",
          "text": [
            "\n",
            "Missing Values in the Dataset:\n",
            "LB          0\n",
            "AC          0\n",
            "FM          0\n",
            "UC          0\n",
            "DL          0\n",
            "DS          0\n",
            "DP          0\n",
            "ASTV        0\n",
            "MSTV        0\n",
            "ALTV        0\n",
            "MLTV        0\n",
            "Width       0\n",
            "Min         0\n",
            "Max         0\n",
            "Nmax        0\n",
            "Nzeros      0\n",
            "Mode        0\n",
            "Mean        0\n",
            "Median      0\n",
            "Variance    0\n",
            "Tendency    0\n",
            "dtype: int64\n"
          ]
        }
      ],
      "source": [
        "print(\"\\nMissing Values in the Dataset:\")\n",
        "print(X.isnull().sum())"
      ]
    },
    {
      "cell_type": "markdown",
      "metadata": {
        "id": "z2Q_Ilb9AYk-"
      },
      "source": [
        "No need to deal with missing values."
      ]
    },
    {
      "cell_type": "markdown",
      "metadata": {
        "id": "8_VGoYYcAl2e"
      },
      "source": [
        "Label distribution:"
      ]
    },
    {
      "cell_type": "code",
      "execution_count": 5,
      "metadata": {
        "colab": {
          "base_uri": "https://localhost:8080/",
          "height": 599
        },
        "id": "T1dTXlPPApgk",
        "outputId": "a85b8ba6-c8a0-4f43-f962-5f6c414d6dc8"
      },
      "outputs": [
        {
          "name": "stdout",
          "output_type": "stream",
          "text": [
            "\n",
            "Target Class Distribution (Counts):\n",
            "NSP\n",
            "1    1655\n",
            "2     295\n",
            "3     176\n",
            "Name: count, dtype: int64\n"
          ]
        },
        {
          "data": {
            "image/png": "[encoded data removed]",
            "text/plain": [
              "<Figure size 640x480 with 1 Axes>"
            ]
          },
          "metadata": {},
          "output_type": "display_data"
        }
      ],
      "source": [
        "label_counts = y.value_counts()\n",
        "print(\"\\nTarget Class Distribution (Counts):\")\n",
        "print(label_counts)\n",
        "\n",
        "sns.countplot(x=y)\n",
        "plt.title(\"Distribution of Target Classes (NSP)\")\n",
        "plt.xlabel(\"NSP Classes (1: Normal, 2: Suspect, 3: Pathological)\")\n",
        "plt.ylabel(\"Count\")\n",
        "plt.show()\n"
      ]
    },
    {
      "cell_type": "markdown",
      "metadata": {
        "id": "5ah0o3zZBsB5"
      },
      "source": [
        "There is a clear imbalance in the dataset, where the normal cases vastly outnumber the suspect and pathological cases. Such class imbalance is common in medical datasets but poses a challenge for machine learning models, which may become biased towards the majority class (Normal). This imbalance will be addressed in the following Model Training section by properly tuning the model and by using proper performance metrics."
      ]
    },
    {
      "cell_type": "markdown",
      "metadata": {
        "id": "oTwfJQQQ7Cmh"
      },
      "source": [
        "## Pre-processing"
      ]
    },
    {
      "cell_type": "markdown",
      "metadata": {
        "id": "rOsZdYHsCqWw"
      },
      "source": [
        "Turning categorical labels into numerical:"
      ]
    },
    {
      "cell_type": "code",
      "execution_count": 6,
      "metadata": {
        "id": "uwB-cpyUCtES"
      },
      "outputs": [],
      "source": [
        "y = y - 1"
      ]
    },
    {
      "cell_type": "markdown",
      "metadata": {
        "id": "k-su2-IPB9Rg"
      },
      "source": [
        "Dataset splitting into training set and test set:"
      ]
    },
    {
      "cell_type": "code",
      "execution_count": 7,
      "metadata": {
        "id": "pK9MF9oU8ClD"
      },
      "outputs": [],
      "source": [
        "X_train, X_test, y_train, y_test = train_test_split(X, y, test_size=0.25, random_state=42)"
      ]
    },
    {
      "cell_type": "markdown",
      "metadata": {
        "id": "lpymnd-wCgbj"
      },
      "source": [
        "Dataset scaling:"
      ]
    },
    {
      "cell_type": "code",
      "execution_count": 8,
      "metadata": {
        "id": "8GrNg3_cCiGZ"
      },
      "outputs": [],
      "source": [
        "scaler = StandardScaler()\n",
        "X_train = scaler.fit_transform(X_train) # fitting only on training set to avoid data leakage\n",
        "X_test = scaler.transform(X_test)"
      ]
    },
    {
      "cell_type": "markdown",
      "metadata": {
        "id": "zfjdXwff7EOl"
      },
      "source": [
        "## Model training"
      ]
    },
    {
      "cell_type": "markdown",
      "metadata": {
        "id": "if74j4zQJytW"
      },
      "source": [
        "Dealing with class imbalance: class weights."
      ]
    },
    {
      "cell_type": "code",
      "execution_count": 9,
      "metadata": {
        "colab": {
          "base_uri": "https://localhost:8080/"
        },
        "id": "gUk7vM3nJ29Q",
        "outputId": "e345320d-5098-4b03-a02a-a09751f68cba"
      },
      "outputs": [
        {
          "name": "stdout",
          "output_type": "stream",
          "text": [
            "11.42977449026694\n"
          ]
        }
      ],
      "source": [
        "# Estimate scale_pos_weight based on class distribution\n",
        "class_weights = compute_class_weight('balanced', classes=np.unique(y_train), y=y_train)\n",
        "scale_pos_weight = class_weights[1] + class_weights[2] / class_weights[0]\n",
        "\n",
        "print(scale_pos_weight)"
      ]
    },
    {
      "cell_type": "code",
      "execution_count": 10,
      "metadata": {
        "id": "QSafyJpnMucd"
      },
      "outputs": [],
      "source": [
        "smote = SMOTE(random_state=1)\n",
        "X_train_resampled, y_train_resampled = smote.fit_resample(X_train, y_train)"
      ]
    },
    {
      "cell_type": "markdown",
      "metadata": {
        "id": "n1eFdGg1J95g"
      },
      "source": [
        "Why XGBoost?\n",
        "*   State of the art performance on strcutured numerical data\n",
        "*   Robust with respect to overfitting\n",
        "*   Fast and light\n",
        "*   Built-in functionality to deal with unbalanced labels\n",
        "\n",
        "Why not neural networks?\n",
        "*   They do not excel in structured scenarios\n",
        "*   Prone to overfitting\n",
        "*   Complex and expensive to train and deploy\n",
        "\n",
        "Training process for the imbalanced dataset:\n",
        "\n",
        "1. Resampling with SMOTE (Synthetic Minority Over-sampling Technique) to balance the class distribution in the training data by generating synthetic samples for minority classes.\n",
        "\n",
        "2. Computing Class Weights: Class weights are computed to reflect the distribution of classes in the resampled dataset, adjusting the model's sensitivity to class imbalances.\n",
        "\n",
        "3. Creating Sample Weights: Sample weights are generated from the class weights, indicating the importance of each training example during model training.\n",
        "\n",
        "4. Training the Model: XGBoost classifier is trained on the resampled dataset using the computed sample weights to improve performance on imbalanced classes and handle the class imbalance effectively.\n",
        "\n"
      ]
    },
    {
      "cell_type": "code",
      "execution_count": 11,
      "metadata": {
        "colab": {
          "base_uri": "https://localhost:8080/",
          "height": 248
        },
        "id": "BEqzEdgQ74Ns",
        "outputId": "282d94e6-053b-4c50-892d-8c90c7015e75"
      },
      "outputs": [
        {
          "data": {
            "text/html": [
              "<style>#sk-container-id-1 {color: black;}#sk-container-id-1 pre{padding: 0;}#sk-container-id-1 div.sk-toggleable {background-color: white;}#sk-container-id-1 label.sk-toggleable__label {cursor: pointer;display: block;width: 100%;margin-bottom: 0;padding: 0.3em;box-sizing: border-box;text-align: center;}#sk-container-id-1 label.sk-toggleable__label-arrow:before {content: \"▸\";float: left;margin-right: 0.25em;color: #696969;}#sk-container-id-1 label.sk-toggleable__label-arrow:hover:before {color: black;}#sk-container-id-1 div.sk-estimator:hover label.sk-toggleable__label-arrow:before {color: black;}#sk-container-id-1 div.sk-toggleable__content {max-height: 0;max-width: 0;overflow: hidden;text-align: left;background-color: #f0f8ff;}#sk-container-id-1 div.sk-toggleable__content pre {margin: 0.2em;color: black;border-radius: 0.25em;background-color: #f0f8ff;}#sk-container-id-1 input.sk-toggleable__control:checked~div.sk-toggleable__content {max-height: 200px;max-width: 100%;overflow: auto;}#sk-container-id-1 input.sk-toggleable__control:checked~label.sk-toggleable__label-arrow:before {content: \"▾\";}#sk-container-id-1 div.sk-estimator input.sk-toggleable__control:checked~label.sk-toggleable__label {background-color: #d4ebff;}#sk-container-id-1 div.sk-label input.sk-toggleable__control:checked~label.sk-toggleable__label {background-color: #d4ebff;}#sk-container-id-1 input.sk-hidden--visually {border: 0;clip: rect(1px 1px 1px 1px);clip: rect(1px, 1px, 1px, 1px);height: 1px;margin: -1px;overflow: hidden;padding: 0;position: absolute;width: 1px;}#sk-container-id-1 div.sk-estimator {font-family: monospace;background-color: #f0f8ff;border: 1px dotted black;border-radius: 0.25em;box-sizing: border-box;margin-bottom: 0.5em;}#sk-container-id-1 div.sk-estimator:hover {background-color: #d4ebff;}#sk-container-id-1 div.sk-parallel-item::after {content: \"\";width: 100%;border-bottom: 1px solid gray;flex-grow: 1;}#sk-container-id-1 div.sk-label:hover label.sk-toggleable__label {background-color: #d4ebff;}#sk-container-id-1 div.sk-serial::before {content: \"\";position: absolute;border-left: 1px solid gray;box-sizing: border-box;top: 0;bottom: 0;left: 50%;z-index: 0;}#sk-container-id-1 div.sk-serial {display: flex;flex-direction: column;align-items: center;background-color: white;padding-right: 0.2em;padding-left: 0.2em;position: relative;}#sk-container-id-1 div.sk-item {position: relative;z-index: 1;}#sk-container-id-1 div.sk-parallel {display: flex;align-items: stretch;justify-content: center;background-color: white;position: relative;}#sk-container-id-1 div.sk-item::before, #sk-container-id-1 div.sk-parallel-item::before {content: \"\";position: absolute;border-left: 1px solid gray;box-sizing: border-box;top: 0;bottom: 0;left: 50%;z-index: -1;}#sk-container-id-1 div.sk-parallel-item {display: flex;flex-direction: column;z-index: 1;position: relative;background-color: white;}#sk-container-id-1 div.sk-parallel-item:first-child::after {align-self: flex-end;width: 50%;}#sk-container-id-1 div.sk-parallel-item:last-child::after {align-self: flex-start;width: 50%;}#sk-container-id-1 div.sk-parallel-item:only-child::after {width: 0;}#sk-container-id-1 div.sk-dashed-wrapped {border: 1px dashed gray;margin: 0 0.4em 0.5em 0.4em;box-sizing: border-box;padding-bottom: 0.4em;background-color: white;}#sk-container-id-1 div.sk-label label {font-family: monospace;font-weight: bold;display: inline-block;line-height: 1.2em;}#sk-container-id-1 div.sk-label-container {text-align: center;}#sk-container-id-1 div.sk-container {/* jupyter's `normalize.less` sets `[hidden] { display: none; }` but bootstrap.min.css set `[hidden] { display: none !important; }` so we also need the `!important` here to be able to override the default hidden behavior on the sphinx rendered scikit-learn.org. See: https://github.com/scikit-learn/scikit-learn/issues/21755 */display: inline-block !important;position: relative;}#sk-container-id-1 div.sk-text-repr-fallback {display: none;}</style><div id=\"sk-container-id-1\" class=\"sk-top-container\"><div class=\"sk-text-repr-fallback\"><pre>XGBClassifier(base_score=None, booster=None, callbacks=None,\n",
              "              colsample_bylevel=None, colsample_bynode=None,\n",
              "              colsample_bytree=None, device=None, early_stopping_rounds=None,\n",
              "              enable_categorical=False, eval_metric=&#x27;mlogloss&#x27;,\n",
              "              feature_types=None, gamma=None, grow_policy=None,\n",
              "              importance_type=None, interaction_constraints=None,\n",
              "              learning_rate=None, max_bin=None, max_cat_threshold=None,\n",
              "              max_cat_to_onehot=None, max_delta_step=None, max_depth=None,\n",
              "              max_leaves=None, min_child_weight=None, missing=nan,\n",
              "              monotone_constraints=None, multi_strategy=None, n_estimators=None,\n",
              "              n_jobs=None, num_parallel_tree=None, objective=&#x27;multi:softprob&#x27;, ...)</pre><b>In a Jupyter environment, please rerun this cell to show the HTML representation or trust the notebook. <br />On GitHub, the HTML representation is unable to render, please try loading this page with nbviewer.org.</b></div><div class=\"sk-container\" hidden><div class=\"sk-item\"><div class=\"sk-estimator sk-toggleable\"><input class=\"sk-toggleable__control sk-hidden--visually\" id=\"sk-estimator-id-1\" type=\"checkbox\" checked><label for=\"sk-estimator-id-1\" class=\"sk-toggleable__label sk-toggleable__label-arrow\">XGBClassifier</label><div class=\"sk-toggleable__content\"><pre>XGBClassifier(base_score=None, booster=None, callbacks=None,\n",
              "              colsample_bylevel=None, colsample_bynode=None,\n",
              "              colsample_bytree=None, device=None, early_stopping_rounds=None,\n",
              "              enable_categorical=False, eval_metric=&#x27;mlogloss&#x27;,\n",
              "              feature_types=None, gamma=None, grow_policy=None,\n",
              "              importance_type=None, interaction_constraints=None,\n",
              "              learning_rate=None, max_bin=None, max_cat_threshold=None,\n",
              "              max_cat_to_onehot=None, max_delta_step=None, max_depth=None,\n",
              "              max_leaves=None, min_child_weight=None, missing=nan,\n",
              "              monotone_constraints=None, multi_strategy=None, n_estimators=None,\n",
              "              n_jobs=None, num_parallel_tree=None, objective=&#x27;multi:softprob&#x27;, ...)</pre></div></div></div></div></div>"
            ],
            "text/plain": [
              "XGBClassifier(base_score=None, booster=None, callbacks=None,\n",
              "              colsample_bylevel=None, colsample_bynode=None,\n",
              "              colsample_bytree=None, device=None, early_stopping_rounds=None,\n",
              "              enable_categorical=False, eval_metric='mlogloss',\n",
              "              feature_types=None, gamma=None, grow_policy=None,\n",
              "              importance_type=None, interaction_constraints=None,\n",
              "              learning_rate=None, max_bin=None, max_cat_threshold=None,\n",
              "              max_cat_to_onehot=None, max_delta_step=None, max_depth=None,\n",
              "              max_leaves=None, min_child_weight=None, missing=nan,\n",
              "              monotone_constraints=None, multi_strategy=None, n_estimators=None,\n",
              "              n_jobs=None, num_parallel_tree=None, objective='multi:softprob', ...)"
            ]
          },
          "execution_count": 11,
          "metadata": {},
          "output_type": "execute_result"
        }
      ],
      "source": [
        "# Handle class imbalance with SMOTE\n",
        "smote = SMOTE(random_state=42)\n",
        "X_train_resampled, y_train_resampled = smote.fit_resample(X_train, y_train)\n",
        "\n",
        "# Compute class weights\n",
        "class_weights = compute_class_weight('balanced', classes=np.unique(y_train_resampled), y=y_train_resampled)\n",
        "class_weights_dict = dict(enumerate(class_weights))\n",
        "\n",
        "# Convert class weights to sample weights\n",
        "sample_weights = np.array([class_weights_dict[class_label] for class_label in y_train_resampled])\n",
        "\n",
        "# Create and train the model\n",
        "model = xgb.XGBClassifier(\n",
        "    eval_metric='mlogloss'\n",
        ")\n",
        "\n",
        "# Fit resampled data with sample weights\n",
        "model.fit(X_train_resampled, y_train_resampled, sample_weight=sample_weights)"
      ]
    },
    {
      "cell_type": "markdown",
      "metadata": {
        "id": "sKt4qMbL7GsK"
      },
      "source": [
        "## Evaluation"
      ]
    },
    {
      "cell_type": "markdown",
      "metadata": {
        "id": "YipdEvxUOSIc"
      },
      "source": [
        "The key column in this scenario is the first one (examples predict as normal), as it is key to avoid false negatives (suspect/pathologic cases labeled as normal), but it is fine to have false positives (normal cases labeled as suspect/pathologic)."
      ]
    },
    {
      "cell_type": "code",
      "execution_count": 12,
      "metadata": {
        "colab": {
          "base_uri": "https://localhost:8080/",
          "height": 641
        },
        "id": "FjVdLgbH8F5H",
        "outputId": "3a69788c-6b21-4ca7-8baa-7695efb1d091"
      },
      "outputs": [
        {
          "data": {
            "image/png": "[encoded data removed]",
            "text/plain": [
              "<Figure size 1000x700 with 2 Axes>"
            ]
          },
          "metadata": {},
          "output_type": "display_data"
        }
      ],
      "source": [
        "y_pred = model.predict(X_test)\n",
        "\n",
        "cm = confusion_matrix(y_test, y_pred)\n",
        "\n",
        "# Labels for the classes\n",
        "labels = ['Normal', 'Suspect', 'Pathologic']\n",
        "\n",
        "# Create a heatmap for the confusion matrix\n",
        "plt.figure(figsize=(10, 7))\n",
        "sns.heatmap(cm, annot=True, fmt='d', cmap='Blues', xticklabels=labels, yticklabels=labels)\n",
        "plt.xlabel('Predicted Label')\n",
        "plt.ylabel('True Label')\n",
        "plt.title('Confusion Matrix')\n",
        "plt.show()"
      ]
    },
    {
      "cell_type": "markdown",
      "metadata": {
        "id": "XIZWhCVjQMlc"
      },
      "source": [
        "Out of the 142 suspect/pathological examples in the test set, only 9 are falsely labeled as normal and therefore problematic."
      ]
    },
    {
      "cell_type": "code",
      "execution_count": 13,
      "metadata": {
        "colab": {
          "base_uri": "https://localhost:8080/"
        },
        "id": "rZ_C_L91IC_e",
        "outputId": "38af4c76-d63c-4f21-c443-c2812477e2dd"
      },
      "outputs": [
        {
          "name": "stdout",
          "output_type": "stream",
          "text": [
            "              precision    recall  f1-score   support\n",
            "\n",
            "      Normal       0.98      0.97      0.98       413\n",
            "     Suspect       0.87      0.89      0.88        82\n",
            "  Pathologic       0.97      0.97      0.97        37\n",
            "\n",
            "    accuracy                           0.96       532\n",
            "   macro avg       0.94      0.95      0.94       532\n",
            "weighted avg       0.96      0.96      0.96       532\n",
            "\n"
          ]
        }
      ],
      "source": [
        "report = classification_report(y_test, y_pred, target_names=labels)\n",
        "print(report)"
      ]
    },
    {
      "cell_type": "markdown",
      "metadata": {
        "id": "yQ73a4BJO1be"
      },
      "source": [
        "Recall is high for all classes."
      ]
    },
    {
      "cell_type": "markdown",
      "metadata": {
        "id": "Xxl-1cK5GzCs"
      },
      "source": [
        "The following shows the feature importance according to this model. Feature importance is not only useful to get a sense of which features are most relevant for the task at hand, but also in the case of model pruning, as it helps identify and remove features that contribute less to the model's performance."
      ]
    },
    {
      "cell_type": "code",
      "execution_count": 14,
      "metadata": {
        "colab": {
          "base_uri": "https://localhost:8080/",
          "height": 472
        },
        "id": "-dD9dwnaGyv9",
        "outputId": "8bee6b0c-4a06-458c-ba44-bd3e5d7c93db"
      },
      "outputs": [
        {
          "data": {
            "image/png": "[encoded data removed]",
            "text/plain": [
              "<Figure size 640x480 with 1 Axes>"
            ]
          },
          "metadata": {},
          "output_type": "display_data"
        }
      ],
      "source": [
        "feature_importances = model.feature_importances_\n",
        "features = X.columns\n",
        "importance_df = pd.DataFrame({'Feature': features, 'Importance': feature_importances})\n",
        "importance_df = importance_df.sort_values(by='Importance', ascending=False)\n",
        "sns.barplot(x='Importance', y='Feature', data=importance_df)\n",
        "plt.title('Feature Importance')\n",
        "plt.show()"
      ]
    },
    {
      "cell_type": "markdown",
      "metadata": {
        "id": "3DNe_eiiHkGY"
      },
      "source": [
        "Some features appear to have little relevance and might be pruned.\n",
        "Model pruning can make the model simpler to use and understand, decrease inference time and overfitting.\n",
        "In this case however the model is already light and fast and achieving the highest confidence is paramount, therefore all features are kept for the deployment."
      ]
    },
    {
      "cell_type": "markdown",
      "metadata": {
        "id": "MUCn3SK2GXEx"
      },
      "source": [
        "## Deployment"
      ]
    },
    {
      "cell_type": "markdown",
      "metadata": {
        "id": "XTxPJx0vGkI4"
      },
      "source": [
        "The model and the scaler are serialized and downloaded to be then deployed via a web application."
      ]
    },
    {
      "cell_type": "code",
      "execution_count": 15,
      "metadata": {
        "colab": {
          "base_uri": "https://localhost:8080/"
        },
        "id": "nVBmtS6XGZtW",
        "outputId": "b38cb146-ec5e-4899-a72b-81956bd673f0"
      },
      "outputs": [
        {
          "data": {
            "text/plain": [
              "['scaler.pkl']"
            ]
          },
          "execution_count": 15,
          "metadata": {},
          "output_type": "execute_result"
        }
      ],
      "source": [
        "import joblib\n",
        "\n",
        "# Save the XGBoost model\n",
        "model.get_booster().save_model('xgboost_fetal_anomalies_model.json')\n",
        "\n",
        "# Save the scaler using joblib\n",
        "joblib.dump(scaler, 'scaler.pkl')"
      ]
    },
    {
      "cell_type": "markdown",
      "metadata": {
        "id": "1ALp84EC7IO7"
      },
      "source": [
        "## Conclusion\n",
        "In this project, a predictive model using XGBoost to identify fetal anomalies based on Cardiotocography (CTG) data was developed and evalutaed. By addressing class imbalance with techniques like SMOTE and optimizing model performance through feature scaling, high recall across all classes was achieved. This model is now ready for deployment, with both the model and scaler saved for real-time inference, supporting obstetricians in detecting fetal anomalies at an early stage.\n"
      ]
    }
  ],
  "metadata": {
    "colab": {
      "provenance": []
    },
    "kernelspec": {
      "display_name": "Python 3",
      "name": "python3"
    },
    "language_info": {
      "name": "python"
    }
  },
  "nbformat": 4,
  "nbformat_minor": 0
}
